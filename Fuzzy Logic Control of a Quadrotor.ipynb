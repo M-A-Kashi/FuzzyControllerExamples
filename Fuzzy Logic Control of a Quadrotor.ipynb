{
 "cells": [
  {
   "cell_type": "markdown",
   "metadata": {},
   "source": [
    "# Fuzzy Logic Control of a Quadrotor"
   ]
  },
  {
   "cell_type": "markdown",
   "metadata": {},
   "source": [
    "### Importing needed libraries"
   ]
  },
  {
   "cell_type": "code",
   "execution_count": 823,
   "metadata": {},
   "outputs": [
    {
     "data": {
      "text/html": [
       "<script type=\"text/javascript\">window.PlotlyConfig = {MathJaxConfig: 'local'};</script><script type=\"text/javascript\">if (window.MathJax) {MathJax.Hub.Config({SVG: {font: \"STIX-Web\"}});}</script><script>requirejs.config({paths: { 'plotly': ['https://cdn.plot.ly/plotly-latest.min']},});if(!window._Plotly) {require(['plotly'],function(plotly) {window._Plotly=plotly;});}</script>"
      ],
      "text/vnd.plotly.v1+html": [
       "<script type=\"text/javascript\">window.PlotlyConfig = {MathJaxConfig: 'local'};</script><script type=\"text/javascript\">if (window.MathJax) {MathJax.Hub.Config({SVG: {font: \"STIX-Web\"}});}</script><script>requirejs.config({paths: { 'plotly': ['https://cdn.plot.ly/plotly-latest.min']},});if(!window._Plotly) {require(['plotly'],function(plotly) {window._Plotly=plotly;});}</script>"
      ]
     },
     "metadata": {},
     "output_type": "display_data"
    }
   ],
   "source": [
    "import skfuzzy as fuzz\n",
    "import numpy as np\n",
    "\n",
    "import matplotlib.pyplot as plt\n",
    "import matplotlib.image as mpimg\n",
    "from mpl_toolkits.mplot3d import Axes3D\n",
    "\n",
    "import control.matlab as mt\n",
    "\n",
    "from IPython.display import clear_output\n",
    "from IPython.display import display\n",
    "import ipywidgets as widgets\n",
    "\n",
    "from plotly.offline import download_plotlyjs, init_notebook_mode, plot, iplot\n",
    "import plotly.graph_objs as go\n",
    "init_notebook_mode(connected=True)"
   ]
  },
  {
   "cell_type": "code",
   "execution_count": 824,
   "metadata": {},
   "outputs": [],
   "source": [
    "sin = np.sin\n",
    "cos = np.cos"
   ]
  },
  {
   "cell_type": "markdown",
   "metadata": {},
   "source": [
    "### Quadrotor Model"
   ]
  },
  {
   "cell_type": "code",
   "execution_count": 616,
   "metadata": {},
   "outputs": [],
   "source": [
    "class QuadRotor:\n",
    "    def __init__(self):\n",
    "        self.Ix = 0.007\n",
    "        self.Iy = 0.007\n",
    "        self.Iz = 0.012\n",
    "        self.Jr = 6.5e-5\n",
    "        self.b  = 4.13e-5\n",
    "        self.d  = 8.5e-7\n",
    "        self.l  = 0.17\n",
    "        self.m  = 0.68\n",
    "        self.g  = 9.81\n",
    "        self.reset()\n",
    "        \n",
    "    def reset(self):\n",
    "        self.time= np.zeros([0])\n",
    "        self.x   = np.zeros([0])\n",
    "        self.y   = np.zeros([0])\n",
    "        self.z   = np.zeros([0])\n",
    "        self.Φ   = np.zeros([0])\n",
    "        self.Θ   = np.zeros([0])\n",
    "        self.Ψ   = np.zeros([0])\n",
    "        self.xd  = np.zeros([0])\n",
    "        self.yd  = np.zeros([0])\n",
    "        self.zd  = np.zeros([0])\n",
    "        self.Φd  = np.zeros([0])\n",
    "        self.Θd  = np.zeros([0])\n",
    "        self.Ψd  = np.zeros([0])\n",
    "        self.xdd = np.zeros([0])\n",
    "        self.ydd = np.zeros([0])\n",
    "        self.zdd = np.zeros([0])\n",
    "        self.Φdd = np.zeros([0])\n",
    "        self.Θdd = np.zeros([0])\n",
    "        self.Ψdd = np.zeros([0])\n",
    "        \n",
    "        self.IMU_xd  = np.zeros([0])\n",
    "        self.IMU_yd  = np.zeros([0])\n",
    "        self.IMU_zd  = np.zeros([0])\n",
    "        self.IMU_Φd  = np.zeros([0])\n",
    "        self.IMU_Θd  = np.zeros([0])\n",
    "        self.IMU_Ψd  = np.zeros([0])\n",
    "        self.IMU_Φ   = np.zeros([0])\n",
    "        self.IMU_Θ   = np.zeros([0])\n",
    "        self.IMU_Ψ   = np.zeros([0])\n",
    "        \n",
    "        \n",
    "        self.m1 = np.zeros([0,3])\n",
    "        self.m2 = np.zeros([0,3])\n",
    "        self.m3 = np.zeros([0,3])\n",
    "        self.m4 = np.zeros([0,3])\n",
    "        \n",
    "        self.R = np.zeros([3,3])\n",
    "        \n",
    "        \n",
    "    def principal_value(self, angle):\n",
    "        \n",
    "        deg = angle % (2*np.pi)\n",
    "        \n",
    "        if(deg>np.pi):\n",
    "            deg = deg - 2*np.pi\n",
    "        if(deg<-np.pi):\n",
    "            deg = deg + 2*np.pi   \n",
    "        return deg\n",
    "    \n",
    "        \n",
    "    def simulate(self, \n",
    "                 ω1 = 200.9485,\n",
    "                 ω2 = 200.9485,\n",
    "                 ω3 = 200.9485,\n",
    "                 ω4 = 200.9485,\n",
    "                 x  = 0,\n",
    "                 y  = 0,\n",
    "                 z  = 0,\n",
    "                 Φ  = 0,\n",
    "                 Θ  = 0,\n",
    "                 Ψ  = 0,\n",
    "                 xd = 0,\n",
    "                 yd = 0,\n",
    "                 zd = 0,\n",
    "                 Φd = 0,\n",
    "                 Θd = 0,\n",
    "                 Ψd = 0,\n",
    "                 Tf = 10,\n",
    "                 dt = 0.001,\n",
    "                 Dx = 0,\n",
    "                 Dy = 0,\n",
    "                 Dz = 0,\n",
    "                 controller = None):\n",
    "        \n",
    "        if controller is None:\n",
    "            print('No controller is provided:open loop')\n",
    "            \n",
    "        \n",
    "        progress=widgets.FloatProgress(\n",
    "            value=0,\n",
    "            min=0,\n",
    "            max=100.0,\n",
    "            step=0.1,\n",
    "            description='Run:0%',\n",
    "            bar_style='info',\n",
    "            orientation='horizontal'\n",
    "        )\n",
    "        display(progress)\n",
    "        \n",
    "        self.reset()\n",
    "        last_t = 0\n",
    "        self.time = np.linspace(0,Tf,int(Tf/dt))\n",
    "        for t in self.time:\n",
    "            \n",
    "            if (controller is not None) and (self.z.size >0):\n",
    "                ω1, ω2, ω3, ω4 = controller(self)\n",
    "            \n",
    "            ωr = -ω1 + ω2 - ω3 + ω4\n",
    "            \n",
    "            Fz = self.b*(ω1**2 + ω2**2 + ω3**2 + ω4**2)\n",
    "            τx = self.l*self.b*(- ω2**2 + ω4**2)\n",
    "            τy = self.l*self.b*(- ω1**2 + ω3**2)\n",
    "            τz = self.d*(ω1**2 - ω2**2 + ω3**2 - ω4**2)\n",
    "            \n",
    "            xdd = (sin(Ψ)*sin(Φ) + cos(Ψ)*sin(Θ)*cos(Φ))*Fz/self.m + Dx/self.m\n",
    "            ydd = (-cos(Ψ)*sin(Φ) + sin(Ψ)*sin(Θ)*cos(Φ))*Fz/self.m + Dy/self.m\n",
    "            zdd = -self.g + (cos(Θ)*cos(Φ))*Fz/self.m +Dz/self.m\n",
    "            Φdd = ((self.Iy - self.Iz)*Θd*Ψd - self.Jr*Θd*ωr + τx)/self.Ix\n",
    "            Θdd = ((self.Iz - self.Ix)*Φd*Ψd + self.Jr*Θd*ωr + τy)/self.Iy\n",
    "            Ψdd = ((self.Ix - self.Iy)*Θd*Φd + τz)/self.Iz\n",
    "            \n",
    "            xd = xd + dt*xdd\n",
    "            yd = yd + dt*ydd\n",
    "            zd = zd + dt*zdd\n",
    "            Φd = Φd + dt*Φdd\n",
    "            Θd = Θd + dt*Θdd\n",
    "            Ψd = Ψd + dt*Ψdd\n",
    "            \n",
    "            x = x + dt*xd\n",
    "            y = y + dt*yd\n",
    "            z = z + dt*zd\n",
    "            Φ = Φ + dt*Φd\n",
    "            Θ = Θ + dt*Θd\n",
    "            Ψ = Ψ + dt*Ψd\n",
    "            \n",
    "            self.R =  np.array([[cos(Ψ)*cos(Θ), -sin(Ψ)*cos(Φ)+cos(Ψ)*sin(Θ)*sin(Φ),  sin(Ψ)*sin(Φ)+cos(Ψ)*sin(Θ)*cos(Φ) ],\n",
    "                                [sin(Ψ)*cos(Θ),  cos(Ψ)*cos(Φ)+sin(Ψ)*sin(Θ)*sin(Φ), -cos(Ψ)*sin(Φ)+sin(Ψ)*sin(Θ)*cos(Φ) ],\n",
    "                                [      -sin(Θ),                       cos(Θ)*sin(Φ),                       cos(Θ)*cos(Φ) ]])\n",
    "            invR = self.R.T\n",
    "            \n",
    "            Rᵣ = [[1,       0,       -sin(Θ) ],\n",
    "                  [0,  cos(Φ), sin(Φ)*cos(Θ) ],\n",
    "                  [0, -sin(Φ), cos(Θ)*cos(Φ) ]]\n",
    "            \n",
    "            m1 = np.dot(self.R,[ self.l,       0, 0]) + [x, y, z]\n",
    "            m2 = np.dot(self.R,[      0, -self.l, 0]) + [x, y, z]\n",
    "            m3 = np.dot(self.R,[-self.l,       0, 0]) + [x, y, z]\n",
    "            m4 = np.dot(self.R,[      0,  self.l, 0]) + [x, y, z]\n",
    "            \n",
    "            i = [1, 0, 0]\n",
    "            j = [0, 1, 0]\n",
    "            k = [0, 0, 1]\n",
    "            \n",
    "            iᵣ = np.dot(self.R, i)\n",
    "            jᵣ = np.dot(self.R, j)\n",
    "            kᵣ = np.dot(self.R, k)\n",
    "            \n",
    "            \n",
    "            # speed and orientation in body-fixed frame\n",
    "            IMU_xd, IMU_yd, IMU_zd = np.dot(invR,[ xd,  yd, zd]) \n",
    "            IMU_Φd, IMU_Θd, IMU_Ψd = np.dot(Rᵣ,[ Φd,  Θd, Ψd])\n",
    "            IMU_Φ =  np.arctan(jᵣ[2]/kᵣ[2])\n",
    "            IMU_Θ = -np.arctan(iᵣ[2]/kᵣ[2])\n",
    "            IMU_Ψ = Ψ\n",
    "\n",
    "            \n",
    "            if(last_t != t*100//Tf):\n",
    "                last_t = t*100//Tf  \n",
    "                progress.value = last_t \n",
    "                progress.description = 'Run:' + str(last_t) + \"%\"\n",
    "\n",
    "           \n",
    "            \n",
    "            self.x   = np.append(self.x  , x  )\n",
    "            self.y   = np.append(self.y  , y  )\n",
    "            self.z   = np.append(self.z  , z  )\n",
    "            self.Φ   = np.append(self.Φ  , Φ  )\n",
    "            self.Θ   = np.append(self.Θ  , Θ  )\n",
    "            self.Ψ   = np.append(self.Ψ  , Ψ  )\n",
    "            self.xd  = np.append(self.xd , xd )\n",
    "            self.yd  = np.append(self.yd , yd )\n",
    "            self.zd  = np.append(self.zd , zd )\n",
    "            self.Φd  = np.append(self.Φd , Φd )\n",
    "            self.Θd  = np.append(self.Θd , Θd )\n",
    "            self.Ψd  = np.append(self.Ψd , Ψd )            \n",
    "#             self.xdd = np.append(self.xdd, xdd)\n",
    "#             self.ydd = np.append(self.ydd, ydd)\n",
    "#             self.zdd = np.append(self.zdd, zdd)\n",
    "#             self.Φdd = np.append(self.Φdd, Φdd)\n",
    "#             self.Θdd = np.append(self.Θdd, Θdd)\n",
    "#             self.Ψdd = np.append(self.Ψdd, Ψdd)  \n",
    "            self.IMU_xd  = np.append(self.IMU_xd , IMU_xd  )\n",
    "            self.IMU_yd  = np.append(self.IMU_yd , IMU_yd  )\n",
    "            self.IMU_zd  = np.append(self.IMU_zd , IMU_zd  )\n",
    "            self.IMU_Φd  = np.append(self.IMU_Φd , IMU_Φd  )\n",
    "            self.IMU_Θd  = np.append(self.IMU_Θd , IMU_Θd  )\n",
    "            self.IMU_Ψd  = np.append(self.IMU_Ψd , IMU_Ψd  )\n",
    "            self.IMU_Φ   = np.append(self.IMU_Φ  , IMU_Φ   )\n",
    "            self.IMU_Θ   = np.append(self.IMU_Θ  , IMU_Θ   )\n",
    "            self.IMU_Ψ   = np.append(self.IMU_Ψ  , IMU_Ψ   )\n",
    "            \n",
    "            self.m1  = np.append(self.m1, [m1],axis=0)  \n",
    "            self.m2  = np.append(self.m2, [m2],axis=0)  \n",
    "            self.m3  = np.append(self.m3, [m3],axis=0)  \n",
    "            self.m4  = np.append(self.m4, [m4],axis=0)  "
   ]
  },
  {
   "cell_type": "code",
   "execution_count": 617,
   "metadata": {},
   "outputs": [],
   "source": [
    "q=QuadRotor()"
   ]
  },
  {
   "cell_type": "code",
   "execution_count": 637,
   "metadata": {},
   "outputs": [
    {
     "name": "stdout",
     "output_type": "stream",
     "text": [
      "No controller is provided:open loop\n"
     ]
    },
    {
     "data": {
      "application/vnd.jupyter.widget-view+json": {
       "model_id": "242af163332f4a05a35bff09a9cc9220",
       "version_major": 2,
       "version_minor": 0
      },
      "text/plain": [
       "FloatProgress(value=0.0, bar_style='info', description='Run:0%')"
      ]
     },
     "metadata": {},
     "output_type": "display_data"
    }
   ],
   "source": [
    "q.simulate(ω1=250,ω2=250, ω3=250, ω4=250)    "
   ]
  },
  {
   "cell_type": "markdown",
   "metadata": {},
   "source": [
    "#### Visualizing Euler Angels"
   ]
  },
  {
   "cell_type": "code",
   "execution_count": 589,
   "metadata": {},
   "outputs": [],
   "source": [
    "def fplot2():\n",
    "    \n",
    "\n",
    "    \n",
    "    trace1 = go.Scatter3d(x=[0,i[0]], y=[0,i[1]], z=[0,i[2]], mode='lines+markers', \n",
    "                         marker=dict(\n",
    "                             size=0.5,\n",
    "                             color='rgb(0, 0, 0)',                  # set color to an array/list of desired values\n",
    "    #                          colorscale='Viridis',   # choose a colorscale\n",
    "                             opacity=1\n",
    "                         )\n",
    "                        )\n",
    "    \n",
    "    trace2 = go.Scatter3d(x=[0,j[0]], y=[0,j[1]], z=[0,j[2]], mode='lines+markers', \n",
    "                         marker=dict(\n",
    "                             size=0.5,\n",
    "                             color='rgb(200, 0, 0)',                # set color to an array/list of desired values\n",
    "    #                          colorscale='Viridis',   # choose a colorscale\n",
    "                             opacity=1\n",
    "                         )\n",
    "                        )\n",
    "    \n",
    "    trace3 = go.Scatter3d(x=[0,k[0]], y=[0,k[1]], z=[0,k[2]], mode='lines+markers', \n",
    "                         marker=dict(\n",
    "                             size=0.5,\n",
    "                             color='rgb(0, 200, 0)',                # set color to an array/list of desired values\n",
    "    #                          colorscale='Viridis',   # choose a colorscale\n",
    "                             opacity=1\n",
    "                         )\n",
    "                        )\n",
    "    \n",
    "    trace1r = go.Scatter3d(x=[0,iᵣ[0]], y=[0,iᵣ[1]], z=[0,iᵣ[2]], mode='lines+markers', \n",
    "                         marker=dict(\n",
    "                             size=0.5,\n",
    "                             color='rgb(0, 0, 0)',                  # set color to an array/list of desired values\n",
    "    #                          colorscale='Viridis',   # choose a colorscale\n",
    "                             opacity=1\n",
    "                         )\n",
    "                        )\n",
    "    \n",
    "    trace2r = go.Scatter3d(x=[0,jᵣ[0]], y=[0,jᵣ[1]], z=[0,jᵣ[2]], mode='lines+markers', \n",
    "                         marker=dict(\n",
    "                             size=0.5,\n",
    "                             color='rgb(200, 0, 0)',                # set color to an array/list of desired values\n",
    "    #                          colorscale='Viridis',   # choose a colorscale\n",
    "                             opacity=1\n",
    "                         )\n",
    "                        )\n",
    "    \n",
    "    trace3r = go.Scatter3d(x=[0,kᵣ[0]], y=[0,kᵣ[1]], z=[0,kᵣ[2]], mode='lines+markers', \n",
    "                         marker=dict(\n",
    "                             size=0.5,\n",
    "                             color='rgb(0, 200, 0)',                # set color to an array/list of desired values\n",
    "    #                          colorscale='Viridis',   # choose a colorscale\n",
    "                             opacity=1\n",
    "                         )\n",
    "                        )\n",
    "    \n",
    "    fig = go.Figure(data=[trace1, trace2, trace3, trace1r, trace2r, trace3r])\n",
    "    plot(fig, filename='Quadrotor Simulation')"
   ]
  },
  {
   "cell_type": "code",
   "execution_count": 590,
   "metadata": {},
   "outputs": [
    {
     "name": "stdout",
     "output_type": "stream",
     "text": [
      "[ 0.54030231  0.         -0.84147098]\n",
      "[0.70807342 0.54030231 0.45464871]\n",
      "[ 0.45464871 -0.84147098  0.29192658]\n",
      "IMU_Θ 1.2368643351396535\n",
      "Θ 1\n",
      "IMU_Φ 1.0\n",
      "Φ 1\n",
      "IMU_Ψ 0.0\n",
      "IMU_Ψ2 -0.9189892552937268\n",
      "Ψ 0\n"
     ]
    },
    {
     "name": "stderr",
     "output_type": "stream",
     "text": [
      "D:\\Programs\\Microsoft Visual Studio\\Shared\\Anaconda3_64\\envs\\env2\\lib\\site-packages\\plotly\\offline\\offline.py:635: UserWarning:\n",
      "\n",
      "Your filename `Quadrotor Simulation` didn't end with .html. Adding .html to the end of your file.\n",
      "\n"
     ]
    }
   ],
   "source": [
    "Φ=1\n",
    "Θ=1\n",
    "Ψ=0\n",
    "R =  [[cos(Ψ)*cos(Θ), -sin(Ψ)*cos(Φ)+cos(Ψ)*sin(Θ)*sin(Φ),  sin(Ψ)*sin(Φ)+cos(Ψ)*sin(Θ)*cos(Φ) ],\n",
    "      [sin(Ψ)*cos(Θ),  cos(Ψ)*cos(Φ)+sin(Ψ)*sin(Θ)*sin(Φ), -cos(Ψ)*sin(Φ)+sin(Ψ)*sin(Θ)*cos(Φ) ],\n",
    "      [      -sin(Θ),                       cos(Θ)*sin(Φ),                       cos(Θ)*cos(Φ) ]]\n",
    "i = [1, 0, 0]\n",
    "j = [0, 1, 0]\n",
    "k = [0, 0, 1]\n",
    "\n",
    "iᵣ = np.dot(R, i)\n",
    "jᵣ = np.dot(R, j)\n",
    "kᵣ = np.dot(R, k)\n",
    "\n",
    "IMU_Θ = -np.arctan(iᵣ[2]/kᵣ[2])\n",
    "IMU_Φ =  np.arctan(jᵣ[2]/kᵣ[2])\n",
    "IMU_Ψ =  np.arctan2(iᵣ[1],jᵣ[1])\n",
    "IMU_Ψ2= -np.arctan2(jᵣ[0],iᵣ[0])\n",
    "print(iᵣ)\n",
    "print(jᵣ)\n",
    "print(kᵣ)\n",
    "print(\"IMU_Θ\",IMU_Θ)\n",
    "print(\"Θ\",Θ)\n",
    "print(\"IMU_Φ\",IMU_Φ)\n",
    "print(\"Φ\",Φ)\n",
    "print(\"IMU_Ψ\",IMU_Ψ)\n",
    "print(\"IMU_Ψ2\",IMU_Ψ2)\n",
    "print(\"Ψ\",Ψ)\n",
    "fplot2()"
   ]
  },
  {
   "cell_type": "markdown",
   "metadata": {},
   "source": [
    "### Fast plot"
   ]
  },
  {
   "cell_type": "code",
   "execution_count": 591,
   "metadata": {},
   "outputs": [],
   "source": [
    "def fplot():\n",
    "    \n",
    "    trace = go.Scatter3d(x=q.x, y=q.y, z=q.z, mode='lines+markers', \n",
    "                         marker=dict(\n",
    "                             size=0.5,\n",
    "                             color=q.time,                # set color to an array/list of desired values\n",
    "                             colorscale='Viridis',   # choose a colorscale\n",
    "                             opacity=1\n",
    "                         )\n",
    "                        )\n",
    "    \n",
    "    trace1 = go.Scatter3d(x=q.m1[:,0], y=q.m1[:,1], z=q.m1[:,2], mode='lines+markers', \n",
    "                         marker=dict(\n",
    "                             size=0.5,\n",
    "                             color='rgb(0, 0, 0)',                  # set color to an array/list of desired values\n",
    "    #                          colorscale='Viridis',   # choose a colorscale\n",
    "                             opacity=1\n",
    "                         )\n",
    "                        )\n",
    "    \n",
    "    trace2 = go.Scatter3d(x=q.m2[:,0], y=q.m2[:,1], z=q.m2[:,2], mode='lines+markers', \n",
    "                         marker=dict(\n",
    "                             size=0.5,\n",
    "                             color='rgb(200, 0, 0)',                # set color to an array/list of desired values\n",
    "    #                          colorscale='Viridis',   # choose a colorscale\n",
    "                             opacity=1\n",
    "                         )\n",
    "                        )\n",
    "    \n",
    "    trace3 = go.Scatter3d(x=q.m3[:,0], y=q.m3[:,1], z=q.m3[:,2], mode='lines+markers', \n",
    "                         marker=dict(\n",
    "                             size=0.5,\n",
    "                             color='rgb(0, 200, 0)',                # set color to an array/list of desired values\n",
    "    #                          colorscale='Viridis',   # choose a colorscale\n",
    "                             opacity=1\n",
    "                         )\n",
    "                        )\n",
    "    \n",
    "    trace4 = go.Scatter3d(x=q.m4[:,0], y=q.m4[:,1], z=q.m4[:,2], mode='lines+markers', \n",
    "                         marker=dict(\n",
    "                             size=0.5,\n",
    "                             color='rgb(0, 0, 204)',                # set color to an array/list of desired values\n",
    "    #                          colorscale='Viridis',   # choose a colorscale\n",
    "                             opacity=1\n",
    "                         )\n",
    "                        )\n",
    "    fig = go.Figure(data=[trace, trace1, trace2, trace3, trace4])\n",
    "    plot(fig, filename='Quadrotor Simulation')"
   ]
  },
  {
   "cell_type": "markdown",
   "metadata": {},
   "source": [
    "### Complete Plot"
   ]
  },
  {
   "cell_type": "code",
   "execution_count": 592,
   "metadata": {},
   "outputs": [],
   "source": [
    "def cplot(rangex=[-5,5],rangey=[-5,5],rangez=[-5,5]):\n",
    "    trace = go.Scatter3d(x=q.x, y=q.y, z=q.z, mode='lines+markers', \n",
    "                         marker=dict(\n",
    "                             size=0.5,\n",
    "                             color=q.time,                # set color to an array/list of desired values\n",
    "                             colorscale='Viridis',   # choose a colorscale\n",
    "                             opacity=1\n",
    "                         )\n",
    "                        )\n",
    "    \n",
    "    data = [go.Scatter3d(\n",
    "                 visible= False,\n",
    "                 x = [q.m1[i,0], q.m2[i,0], q.m3[i,0], q.m4[i,0]],\n",
    "                 y = [q.m1[i,1], q.m2[i,1], q.m3[i,1], q.m4[i,1]],\n",
    "                 z = [q.m1[i,2], q.m2[i,2], q.m3[i,2], q.m4[i,2]],\n",
    "                 mode='markers',\n",
    "                 marker=dict(\n",
    "                     color=['rgb(200, 0, 0)','rgb(0, 200, 0)','rgb(0, 0, 200)','rgb(0, 0, 0)'],\n",
    "                     size=4,\n",
    "                     symbol='circle',\n",
    "                     line=dict(\n",
    "                         color=['rgb(200, 0, 0)','rgb(0, 200, 0)','rgb(0, 0, 200)','rgb(0, 0, 0)'],\n",
    "                         width=10\n",
    "                         ),\n",
    "                     opacity=0.9\n",
    "                     )\n",
    "                 ) for i in range(0,len(q.time),100)]\n",
    "    data.append(trace)\n",
    "    data[0]['visible']=True\n",
    "    \n",
    "    steps = []\n",
    "    for i in range(len(data)):\n",
    "        step = dict(\n",
    "            method = 'restyle',  \n",
    "            args = ['visible', [False] * len(data)],\n",
    "            label='{:f}'.format(i*0.1) \n",
    "        )\n",
    "        step['args'][1][i] = True # Toggle i'th trace to \"visible\"\n",
    "        step['args'][1][-1] = True\n",
    "        steps.append(step)\n",
    "        \n",
    "        \n",
    "    sliders = [dict(\n",
    "        active = 0,\n",
    "        currentvalue = {\"prefix\": \"Time: \"},\n",
    "        pad = {\"t\": 50},\n",
    "        steps = steps\n",
    "    )]\n",
    "    \n",
    "\n",
    "#      go.layout.scene.\n",
    "    \n",
    "    layout = dict(sliders=sliders, scene= dict(aspectmode='cube',\n",
    "                                               xaxis=dict(range=rangex, nticks=20), \n",
    "                                               yaxis=dict(range=rangey, nticks=20),\n",
    "                                               zaxis=dict(range=rangez, nticks=20)))\n",
    "    \n",
    "    fig = dict(data=data, layout=layout)\n",
    "    \n",
    "    plot(fig, filename='Quadrotor Simulation.html')"
   ]
  },
  {
   "cell_type": "markdown",
   "metadata": {},
   "source": [
    "## Controller"
   ]
  },
  {
   "cell_type": "markdown",
   "metadata": {},
   "source": [
    "#### Definition of fuzzy membership functions"
   ]
  },
  {
   "cell_type": "code",
   "execution_count": 593,
   "metadata": {},
   "outputs": [],
   "source": [
    "# ============================================================================ Definition of triangular function fuzzy membership\n",
    "class trimf:\n",
    "    def __init__(self, a, b, c, ref_set):\n",
    "        self.a = a\n",
    "        self.b = b\n",
    "        self.c = c\n",
    "        self.ref_set = ref_set\n",
    "        \n",
    "    def series(self):\n",
    "        return fuzz.trimf(self.ref_set, [self.a, self.b, self.c])\n",
    "    \n",
    "    \n",
    "    def doc(self, singleton_input):\n",
    "        if (singleton_input<=self.a):\n",
    "            return 0\n",
    "        \n",
    "        if (singleton_input>self.a and singleton_input<=self.b):\n",
    "            return (1/(self.b-self.a)*(singleton_input-self.a))\n",
    "        \n",
    "        if (singleton_input>self.b and singleton_input<=self.c):\n",
    "            return (1-1/(self.c-self.b)*(singleton_input-self.b))\n",
    "        \n",
    "        if (singleton_input>self.c):\n",
    "            return 0\n",
    "        \n",
    "# ============================================================================ Definition of trapezoidal function fuzzy membership\n",
    "class trapmf:\n",
    "    def __init__(self, a, b, c, d):\n",
    "        self.a = a\n",
    "        self.b = b\n",
    "        self.c = c\n",
    "        self.d = d\n",
    "        \n",
    "# ============================================================================ Definition of Bell function fuzzy membership\n",
    "class gbellmf:\n",
    "    def __init__(self, a, b, c, ref_set):\n",
    "        self.a = a\n",
    "        self.b = b\n",
    "        self.c = c\n",
    "        self.ref_set = ref_set\n",
    "        \n",
    "    def series(self):\n",
    "        return 1 / (1 + abs((self.ref_set - self.c) / self.a) ** (2 * self.b))\n",
    "    \n",
    "    def doc(self, singleton_input):\n",
    "        return 1 / (1 + abs((singleton_input - self.c) / self.a) ** (2 * self.b))\n",
    "    \n",
    "# ============================================================================ Definition of sigmoid function fuzzy membership \n",
    "class sigmf:\n",
    "    def __init__(self, b, c, ref_set):\n",
    "        self.b = b\n",
    "        self.c = c\n",
    "        self.ref_set = ref_set\n",
    "        \n",
    "    def series(self):\n",
    "        return 1 / (1. + np.exp(- self.c * (self.ref_set - self.b)))\n",
    "    \n",
    "    def doc(self, singleton_input):\n",
    "        return 1 / (1. + np.exp(- self.c * (singleton_input - self.b)))\n",
    "    "
   ]
  },
  {
   "cell_type": "markdown",
   "metadata": {},
   "source": [
    "##### Fuzzy sets for Priority of Controllers"
   ]
  },
  {
   "cell_type": "markdown",
   "metadata": {},
   "source": [
    " Errors in Φ, Θ and Ψ should be smaller than 20 degree to switch to control of x, y and z."
   ]
  },
  {
   "cell_type": "code",
   "execution_count": 825,
   "metadata": {},
   "outputs": [
    {
     "data": {
      "image/png": "[encoded data removed]",
      "text/plain": [
       "<Figure size 432x288 with 1 Axes>"
      ]
     },
     "metadata": {
      "needs_background": "light"
     },
     "output_type": "display_data"
    }
   ],
   "source": [
    "index =[\"x\", \"y\", \"z\", \"Φ\", \"Θ\", \"Ψ\"]\n",
    "num = 6\n",
    "\n",
    "# Beginning of interval\n",
    "boi = -2\n",
    "# End of interval\n",
    "eoi = 2\n",
    "# Range of interval\n",
    "roi = eoi - boi\n",
    "\n",
    "ref = np.linspace(boi,eoi,roi*100)\n",
    "PR = np.array([gbellmf(a=50 , b=-0.1, c=0, ref_set=ref),\n",
    "               gbellmf(a=50 , b=-0.1, c=0, ref_set=ref),\n",
    "               gbellmf(a=50 , b=-0.1, c=0, ref_set=ref),\n",
    "               gbellmf(a=2 , b=-0.15, c=0, ref_set=ref),\n",
    "               gbellmf(a=2 , b=-0.15, c=0, ref_set=ref),\n",
    "               gbellmf(a=2.4 , b=-0.15, c=0, ref_set=ref)])\n",
    "\n",
    "for i in range(num):\n",
    "    plt.plot(ref, PR[i].series(), label=index[i]) \n",
    "    \n",
    "plt.xticks(np.arange(boi, eoi+ roi/(num-1), roi/(num-1)))\n",
    "plt.xlabel(\"m  or rad\")\n",
    "plt.ylabel(\"$\\mu$\")\n",
    "plt.title(r\"Fuzzy Sets for Priority of Controllers\")\n",
    "plt.legend();"
   ]
  },
  {
   "cell_type": "markdown",
   "metadata": {},
   "source": [
    "##### Fuzzy sets for error in z direction and speed in z direction"
   ]
  },
  {
   "cell_type": "code",
   "execution_count": 766,
   "metadata": {},
   "outputs": [
    {
     "data": {
      "image/png": "[encoded data removed]",
      "text/plain": [
       "<Figure size 432x288 with 1 Axes>"
      ]
     },
     "metadata": {
      "needs_background": "light"
     },
     "output_type": "display_data"
    }
   ],
   "source": [
    "index =[\"BN\", \"N\", \"Z\",\"P\", \"BP\"]\n",
    "num = 5\n",
    "\n",
    "# Beginning of interval\n",
    "boi = -10\n",
    "# End of interval\n",
    "eoi = 10\n",
    "# Range of interval\n",
    "roi = eoi - boi\n",
    "\n",
    "ref = np.linspace(boi,eoi,roi*100)\n",
    "EZ = np.array([sigmf(b=-10, c=-0.7, ref_set=ref),\n",
    "              gbellmf(a=2 , b=1, c=-3, ref_set=ref),\n",
    "              gbellmf(a=0.3 , b=0.5, c=0, ref_set=ref),\n",
    "              gbellmf(a=2 , b=1, c=3, ref_set=ref),\n",
    "              sigmf(b=10, c= 0.7, ref_set=ref)])\n",
    "\n",
    "for i in range(num):\n",
    "    plt.plot(ref, EZ[i].series(), label=index[i]) \n",
    "    \n",
    "plt.xticks(np.arange(boi, eoi+ roi/(num-1), roi/(num-1)))\n",
    "plt.xlabel(\"m\")\n",
    "plt.ylabel(\"$\\mu$\")\n",
    "plt.title(r\"EZ : Fuzzy Sets for error in z direction\")\n",
    "plt.legend();"
   ]
  },
  {
   "cell_type": "code",
   "execution_count": 596,
   "metadata": {},
   "outputs": [
    {
     "data": {
      "image/png": "[encoded data removed]",
      "text/plain": [
       "<Figure size 432x288 with 1 Axes>"
      ]
     },
     "metadata": {
      "needs_background": "light"
     },
     "output_type": "display_data"
    }
   ],
   "source": [
    "index =[\"BN\", \"N\", \"P\", \"BP\"]\n",
    "num = 4\n",
    "\n",
    "# Beginning of interval\n",
    "boi = -8\n",
    "# End of interval\n",
    "eoi = 8\n",
    "# Range of interval\n",
    "roi = eoi - boi\n",
    "\n",
    "ref = np.linspace(boi,eoi,roi*100)\n",
    "SZ = np.array([sigmf(b=-6,    c=-20, ref_set=ref),\n",
    "              gbellmf(a=3 , b=20, c=-3, ref_set=ref),\n",
    "              gbellmf(a=3 , b=20, c=3, ref_set=ref),\n",
    "              sigmf(b=6,    c= 20, ref_set=ref)])\n",
    "\n",
    "for i in range(num):\n",
    "    plt.plot(ref, SZ[i].series(), label=index[i]) \n",
    "    \n",
    "plt.xticks(np.arange(boi, eoi+ roi/(num-1), roi/(num-1)))\n",
    "plt.xlabel(\"m/s\")\n",
    "plt.ylabel(\"$\\mu$\")\n",
    "plt.title(r\"SZ : Fuzzy Sets for speed in z direction\")\n",
    "plt.legend();"
   ]
  },
  {
   "cell_type": "markdown",
   "metadata": {},
   "source": [
    "##### Fuzzy sets for error in Ψ direction and speed in Ψ direction "
   ]
  },
  {
   "cell_type": "code",
   "execution_count": 597,
   "metadata": {},
   "outputs": [
    {
     "data": {
      "image/png": "[encoded data removed]",
      "text/plain": [
       "<Figure size 432x288 with 1 Axes>"
      ]
     },
     "metadata": {
      "needs_background": "light"
     },
     "output_type": "display_data"
    }
   ],
   "source": [
    "index =[\"BN\",\"SN\", \"Z\", \"SP\", \"BP\"]\n",
    "num = 5\n",
    "\n",
    "# Beginning of interval\n",
    "boi = -np.pi\n",
    "# End of interval\n",
    "eoi = np.pi\n",
    "# Range of interval\n",
    "roi = eoi - boi\n",
    "\n",
    "ref = np.linspace(boi,eoi,int(roi*100))\n",
    "EΨ = np.array([gbellmf(a=np.pi/3, b=20,  c=-np.pi*2/3, ref_set=ref),\n",
    "              gbellmf(a=np.pi/6, b=9,   c=-np.pi/6, ref_set=ref),\n",
    "              gbellmf(a=0.03,    b=0.5, c=0, ref_set=ref),\n",
    "              gbellmf(a=np.pi/6, b=9,   c= np.pi/6 , ref_set=ref),\n",
    "              gbellmf(a=np.pi/3, b=20,  c= np.pi*2/3 , ref_set=ref)])\n",
    "\n",
    "for i in range(num):\n",
    "    plt.plot(ref, EΨ[i].series(), label=index[i]) \n",
    "    \n",
    "plt.xticks(np.arange(boi, eoi+ roi/(num-1), roi/(num-1)))\n",
    "plt.xlabel(\"rad\")\n",
    "plt.ylabel(\"$\\mu$\")\n",
    "plt.title(r\"EΨ : Fuzzy Sets for error in Ψ direction\")\n",
    "plt.legend();"
   ]
  },
  {
   "cell_type": "markdown",
   "metadata": {},
   "source": [
    "Max Angular Speed : 200°/s = 3.4 rad/s (PHANTOM 4 SPECS)"
   ]
  },
  {
   "cell_type": "code",
   "execution_count": 598,
   "metadata": {},
   "outputs": [
    {
     "data": {
      "image/png": "[encoded data removed]",
      "text/plain": [
       "<Figure size 432x288 with 1 Axes>"
      ]
     },
     "metadata": {
      "needs_background": "light"
     },
     "output_type": "display_data"
    }
   ],
   "source": [
    "index =[\"BN\",\"SN\", \"SP\", \"BP\"]\n",
    "num = 4\n",
    "\n",
    "# Beginning of interval\n",
    "boi = -4\n",
    "# End of interval\n",
    "eoi = 4\n",
    "# Range of interval\n",
    "roi = eoi - boi\n",
    "\n",
    "ref = np.linspace(boi,eoi,roi*100)\n",
    "SΨ = np.array([sigmf( b=-3.4, c=-10, ref_set=ref),\n",
    "              gbellmf(a=1.7, b=10, c=-1.7, ref_set=ref),\n",
    "              gbellmf(a=1.7, b=10, c=1.7, ref_set=ref),\n",
    "              sigmf( b= 3.4, c=10 , ref_set=ref)])\n",
    "\n",
    "for i in range(num):\n",
    "    plt.plot(ref, SΨ[i].series(), label=index[i]) \n",
    "    \n",
    "plt.xticks(np.arange(boi, eoi+ roi/(num-1), roi/(num-1)))\n",
    "plt.xlabel(\"rad/s\")\n",
    "plt.ylabel(\"$\\mu$\")\n",
    "plt.title(r\"SΨ : Fuzzy Sets for speed in Ψ direction\")\n",
    "plt.legend();"
   ]
  },
  {
   "cell_type": "markdown",
   "metadata": {},
   "source": [
    "### 2.2. Rule Base"
   ]
  },
  {
   "cell_type": "markdown",
   "metadata": {},
   "source": [
    "Basic Flight movements of a Quadcopter (MQ):"
   ]
  },
  {
   "cell_type": "code",
   "execution_count": 599,
   "metadata": {},
   "outputs": [],
   "source": [
    "MQ = np.array([[ 1,  1,  1,  1], # z:+\n",
    "               [ 1, -1,  1, -1], # Ψ:+\n",
    "               [-1,  0,  1,  0], # x:+  Θ:+\n",
    "               [ 0,  1,  0, -1]])# y:+  Φ:-\n",
    "\n",
    "neutral_output = np.array([201, 201, 201, 201])"
   ]
  },
  {
   "cell_type": "code",
   "execution_count": 804,
   "metadata": {},
   "outputs": [],
   "source": [
    "                      #                   SX \n",
    "                      #    BN         N         P        BP\n",
    "rule_base_x= np.array([[ 30*MQ[2],  25*MQ[2],  20*MQ[2], -20*MQ[2]], # BN       \n",
    "                       [ 30*MQ[2],  20*MQ[2],   5*MQ[2],  -5*MQ[2]], # N  \n",
    "                       [ 10*MQ[2],   5*MQ[2],  -5*MQ[2], -10*MQ[2]], # Z  EX\n",
    "                       [  5*MQ[2],  -5*MQ[2], -20*MQ[2], -30*MQ[2]], # P  \n",
    "                       [ 20*MQ[2], -20*MQ[2], -25*MQ[2], -30*MQ[2]]])# BP \n",
    "#===========================================================================\n",
    "                      #                   SY \n",
    "                      #    BN         N         P        BP\n",
    "rule_base_y=  np.array([[ 30*MQ[3],  25*MQ[3],  20*MQ[3], -20*MQ[3]], # BN       \n",
    "                        [ 30*MQ[3],  20*MQ[3],   5*MQ[3],  -5*MQ[3]], # N  \n",
    "                        [ 10*MQ[3],   5*MQ[3],  -5*MQ[3], -10*MQ[3]], # Z  EY\n",
    "                        [  5*MQ[3],  -5*MQ[3], -20*MQ[3], -30*MQ[3]], # P  \n",
    "                        [ 20*MQ[3], -20*MQ[3], -25*MQ[3], -30*MQ[3]]])# BP \n",
    "#===========================================================================\n",
    "                      #                   SZ \n",
    "                      #    BN         N         P        BP\n",
    "rule_base_z= np.array([[ 30*MQ[0],  25*MQ[0],  20*MQ[0], -20*MQ[0]], # BN       \n",
    "                       [ 30*MQ[0],  20*MQ[0],   5*MQ[0],  -5*MQ[0]], # N  \n",
    "                       [ 10*MQ[0],   5*MQ[0],  -5*MQ[0], -10*MQ[0]], # Z  EZ\n",
    "                       [  5*MQ[0],  -5*MQ[0], -20*MQ[0], -30*MQ[0]], # P  \n",
    "                       [ 20*MQ[0], -20*MQ[0], -25*MQ[0], -30*MQ[0]]])# BP  \n",
    "#===========================================================================\n",
    "                     #                   SΦ \n",
    "                     #      BN       N         P        BP\n",
    "rule_base_Φ=-np.array([[ 30*MQ[3],  25*MQ[3],  20*MQ[3], -20*MQ[3]], # BN       \n",
    "                       [ 30*MQ[3],  20*MQ[3],   5*MQ[3],  -5*MQ[3]], # N  \n",
    "                       [ 10*MQ[3],   5*MQ[3],  -5*MQ[3], -10*MQ[3]], # Z  EΦ\n",
    "                       [  5*MQ[3],  -5*MQ[3], -20*MQ[3], -30*MQ[3]], # P  \n",
    "                       [ 20*MQ[3], -20*MQ[3], -25*MQ[3], -30*MQ[3]]])# BP \n",
    "#===========================================================================\n",
    "                     #                   SΘ \n",
    "                     #      BN       N         P        BP\n",
    "rule_base_Θ= np.array([[ 30*MQ[2],  25*MQ[2],  20*MQ[2], -20*MQ[2]],# BN       \n",
    "                       [ 30*MQ[2],  20*MQ[2],   5*MQ[2],  -5*MQ[2]],# N  \n",
    "                       [ 10*MQ[2],   5*MQ[2],  -5*MQ[2], -10*MQ[2]],# Z  EΘ\n",
    "                       [  5*MQ[2],  -5*MQ[2], -20*MQ[2], -30*MQ[2]], # P  \n",
    "                       [ 20*MQ[2], -20*MQ[2], -25*MQ[2], -30*MQ[2]]])# BP  \n",
    "#===========================================================================\n",
    "                     #                   SΨ \n",
    "                     #      BN       N         P        BP\n",
    "rule_base_Ψ= np.array([[ 30*MQ[1],  25*MQ[1],  20*MQ[1], -20*MQ[1]], # BN       \n",
    "                       [ 30*MQ[1],  20*MQ[1],   5*MQ[1],  -5*MQ[1]], # N  \n",
    "                       [ 10*MQ[1],   5*MQ[1],  -5*MQ[1], -10*MQ[1]], # Z  EΨ\n",
    "                       [  5*MQ[1],  -5*MQ[1], -20*MQ[1], -30*MQ[1]], # P  \n",
    "                       [ 20*MQ[1], -20*MQ[1], -25*MQ[1], -30*MQ[1]]])# BP  "
   ]
  },
  {
   "cell_type": "code",
   "execution_count": 805,
   "metadata": {},
   "outputs": [],
   "source": [
    "def fuzzy_controller(error, speed, e_set, s_set, rule_base):\n",
    "    # 1. Degrees of compatibility \n",
    "    # 2. Firing Strength: \n",
    "    u = np.array([[e_set[i].doc(error)*s_set[j].doc(speed)\n",
    "                   for j in range(len(s_set))]\n",
    "                  for i in range(len(e_set))])\n",
    "\n",
    "    # 3. Qualified (induced) consequent MFs : Algebraic Product implication\n",
    "    result = np.array( [[rule_base[i][j]*u[i,j] \n",
    "                          for j in range(len(s_set))]\n",
    "                         for i in range(len(e_set))])\n",
    "#     print(result)\n",
    "    # 5. defuzzification : COA\n",
    "    result  = np.sum(result,axis=(0,1))/np.sum(u)\n",
    "\n",
    "    return result"
   ]
  },
  {
   "cell_type": "code",
   "execution_count": 806,
   "metadata": {},
   "outputs": [],
   "source": [
    "def controller(qr, #quad_rotor\n",
    "               setpoint_x = -3,\n",
    "               setpoint_y = 4,\n",
    "               setpoint_z = 10, \n",
    "               setpoint_Φ = 0, \n",
    "               setpoint_Θ = 0, \n",
    "               setpoint_Ψ = 0):\n",
    "    \n",
    "    R = qr.R\n",
    "    invR = R.T\n",
    "    \n",
    "    x = qr.x[-1]\n",
    "    xd = qr.IMU_xd[-1]\n",
    "#     x_error = x - setpoint_x\n",
    "    \n",
    "    y = qr.y[-1]\n",
    "    yd = qr.IMU_yd[-1]\n",
    "#     y_error = y - setpoint_y\n",
    "    \n",
    "    z = qr.z[-1]\n",
    "    zd = qr.IMU_zd[-1]\n",
    "#     z_error = z - setpoint_z\n",
    "    \n",
    "    x_error, y_error, z_error = np.dot(invR,[ x-setpoint_x,  y-setpoint_y, z-setpoint_z]) \n",
    "    \n",
    "\n",
    "    \n",
    "    Φ = qr.principal_value(qr.IMU_Φ[-1])\n",
    "    Φd = qr.IMU_Φd[-1]\n",
    "    Φ_error = qr.principal_value(Φ - setpoint_Φ)\n",
    "    \n",
    "    Θ = qr.principal_value(qr.IMU_Θ[-1])\n",
    "    Θd = qr.IMU_Θd[-1]\n",
    "    Θ_error = qr.principal_value(Θ - setpoint_Θ)\n",
    "    \n",
    "    Ψ = qr.principal_value(qr.IMU_Ψ[-1])\n",
    "    Ψd = qr.IMU_Ψd[-1]\n",
    "    Ψ_error = qr.principal_value(Ψ - setpoint_Ψ)\n",
    "    \n",
    "    result = neutral_output + fuzzy_controller(z_error, zd, EZ, SZ, rule_base_z) + \\\n",
    "                            (  fuzzy_controller(x_error, xd, EZ, SZ, rule_base_x)*PR[0].doc(x_error) +\n",
    "                               fuzzy_controller(y_error, yd, EZ, SZ, rule_base_y)*PR[1].doc(y_error) +\n",
    "                               fuzzy_controller(Φ_error, Φd, EΨ, SΨ, rule_base_Φ)*PR[3].doc(Φ_error) +\n",
    "                               fuzzy_controller(Θ_error, Θd, EΨ, SΨ, rule_base_Θ)*PR[4].doc(Θ_error) +\n",
    "                               fuzzy_controller(Ψ_error, Ψd, EΨ, SΨ, rule_base_Ψ)*PR[5].doc(Ψ_error) \n",
    "                              ) / (PR[0].doc(x_error) +\n",
    "                                   PR[1].doc(y_error) +\n",
    "                                   PR[3].doc(Φ_error) +\n",
    "                                   PR[4].doc(Θ_error) +\n",
    "                                   PR[5].doc(Ψ_error) )\n",
    "   \n",
    "    return result   "
   ]
  },
  {
   "cell_type": "code",
   "execution_count": 819,
   "metadata": {},
   "outputs": [
    {
     "data": {
      "application/vnd.jupyter.widget-view+json": {
       "model_id": "f1b116cd0a6149b09249df9272969328",
       "version_major": 2,
       "version_minor": 0
      },
      "text/plain": [
       "FloatProgress(value=0.0, bar_style='info', description='Run:0%')"
      ]
     },
     "metadata": {},
     "output_type": "display_data"
    }
   ],
   "source": [
    "q.simulate(Dx=0.01,Tf=30, controller=controller,Θ=0.1,Ψ=1,Φ=0.1)"
   ]
  },
  {
   "cell_type": "code",
   "execution_count": 820,
   "metadata": {},
   "outputs": [
    {
     "data": {
      "text/plain": [
       "[<matplotlib.lines.Line2D at 0x197892a76d8>]"
      ]
     },
     "execution_count": 820,
     "metadata": {},
     "output_type": "execute_result"
    },
    {
     "data": {
      "image/png": "[encoded data removed]",
      "text/plain": [
       "<Figure size 432x288 with 1 Axes>"
      ]
     },
     "metadata": {
      "needs_background": "light"
     },
     "output_type": "display_data"
    }
   ],
   "source": [
    "# plt.plot(q.time, q.xd)\n",
    "# plt.plot(q.time, q.x)\n",
    "# plt.plot(q.time, q.yd)\n",
    "# plt.plot(q.time, q.y)\n",
    "plt.plot(q.time, q.zd)\n",
    "plt.plot(q.time, q.z)\n",
    "\n",
    "# setp = np.ones(shape=q.time.shape)*10\n",
    "# plt.plot(q.time,setp)"
   ]
  },
  {
   "cell_type": "code",
   "execution_count": 821,
   "metadata": {},
   "outputs": [
    {
     "data": {
      "text/plain": [
       "[<matplotlib.lines.Line2D at 0x1978a3a8fd0>]"
      ]
     },
     "execution_count": 821,
     "metadata": {},
     "output_type": "execute_result"
    },
    {
     "data": {
      "image/png": "[encoded data removed]",
      "text/plain": [
       "<Figure size 432x288 with 1 Axes>"
      ]
     },
     "metadata": {
      "needs_background": "light"
     },
     "output_type": "display_data"
    }
   ],
   "source": [
    "plt.plot(q.time, q.Φ)\n",
    "# plt.plot(q.time, q.Φd)\n",
    "plt.plot(q.time, q.Θ)\n",
    "# plt.plot(q.time, q.Θd)\n",
    "plt.plot(q.time, q.Ψ)\n",
    "# plt.plot(q.time, q.Ψd) \n",
    "# setp = np.ones(shape=q.time.shape)*10\n",
    "# plt.plot(q.time,setp)"
   ]
  },
  {
   "cell_type": "code",
   "execution_count": 822,
   "metadata": {},
   "outputs": [],
   "source": [
    "cplot(rangex=[-5,2],rangey=[-1,6],rangez=[-1,15])"
   ]
  },
  {
   "cell_type": "code",
   "execution_count": null,
   "metadata": {},
   "outputs": [],
   "source": []
  }
 ],
 "metadata": {
  "kernelspec": {
   "display_name": "Python [conda env:env2]",
   "language": "python",
   "name": "conda-env-env2-py"
  },
  "language_info": {
   "codemirror_mode": {
    "name": "ipython",
    "version": 3
   },
   "file_extension": ".py",
   "mimetype": "text/x-python",
   "name": "python",
   "nbconvert_exporter": "python",
   "pygments_lexer": "ipython3",
   "version": "3.6.6"
  }
 },
 "nbformat": 4,
 "nbformat_minor": 2
}
